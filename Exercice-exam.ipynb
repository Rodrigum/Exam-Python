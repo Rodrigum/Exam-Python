{
 "cells": [
  {
   "cell_type": "code",
   "execution_count": 16,
   "metadata": {},
   "outputs": [
    {
     "name": "stdout",
     "output_type": "stream",
     "text": [
      "0.19999999999999996 8 1\n"
     ]
    },
    {
     "data": {
      "text/plain": [
       "(0.19999999999999996, 8, 1)"
      ]
     },
     "execution_count": 16,
     "metadata": {},
     "output_type": "execute_result"
    }
   ],
   "source": [
    "##Exercice 1:\n",
    "import numpy as np\n",
    "import matplotlib.pyplot as plt\n",
    "\n",
    "def f(x):\n",
    "   f = x**4.0\n",
    "   return f;\n",
    "\n",
    "def trapeze(f,a,b,N):\n",
    "    h   = (b-a)/N\n",
    "    xi  = np.linspace(a,b,N+1)\n",
    "    fi  = f(xi)\n",
    "    s   = 0.0\n",
    "    for i in range(1,N):\n",
    "        s = s + fi[i]\n",
    "    s = (h/2)*(fi[0] + fi[N]) + h*s\n",
    "    return s\n",
    "\n",
    "def integ_romberg(f,a,b,eps):\n",
    "    Q = np.zeros((10,10),float)\n",
    "    converged = 0\n",
    "    for i in range(0,9):\n",
    "        N = 2**i\n",
    "        Q[i,0] = trapeze(f,a,b,N)\n",
    "        for k in range(0,i):\n",
    "            n = k + 2\n",
    "            Q[i,k+1] = 1.0/(4**(n-1)-1)*(4**(n-1)*Q[i,k] - Q[i-1,k])\n",
    "        if (i > 0):\n",
    "            if (abs(Q[i,k+1] - Q[i,k]) < eps):\n",
    "               converge = 1\n",
    "               break\n",
    "    print(Q[i,k+1],N,converge)   \n",
    "    return Q[i,k+1],N,converge\n",
    "\n",
    "a  = 0.0\n",
    "b = 1.0 \n",
    "integ_romberg(f,a,b,1.0e-12)\n",
    "\n"
   ]
  },
  {
   "cell_type": "code",
   "execution_count": null,
   "metadata": {},
   "outputs": [],
   "source": []
  },
  {
   "cell_type": "code",
   "execution_count": null,
   "metadata": {},
   "outputs": [],
   "source": []
  }
 ],
 "metadata": {
  "kernelspec": {
   "display_name": "Python 3",
   "language": "python",
   "name": "python3"
  },
  "language_info": {
   "codemirror_mode": {
    "name": "ipython",
    "version": 3
   },
   "file_extension": ".py",
   "mimetype": "text/x-python",
   "name": "python",
   "nbconvert_exporter": "python",
   "pygments_lexer": "ipython3",
   "version": "3.7.6"
  }
 },
 "nbformat": 4,
 "nbformat_minor": 4
}
